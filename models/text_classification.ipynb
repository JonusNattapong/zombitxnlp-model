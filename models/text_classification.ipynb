{
 "cells": [
  {
   "cell_type": "markdown",
   "metadata": {},
   "source": [
    "# Thai Text Classification Model\n",
    "\n",
    "This notebook implements a text classification model for Thai language using transformer-based models."
   ]
  },
  {
   "cell_type": "code",
   "execution_count": null,
   "metadata": {},
   "outputs": [],
   "source": [
    "# Install required packages\n",
    "!pip install transformers datasets evaluate pythainlp sentencepiece torch pandas sklearn"
   ]
  },
  {
   "cell_type": "code",
   "execution_count": null,
   "metadata": {},
   "outputs": [],
   "source": [
    "# Import necessary libraries\n",
    "import sys\n",
    "import os\n",
    "import pandas as pd\n",
    "import numpy as np\n",
    "import torch\n",
    "from torch.utils.data import Dataset, DataLoader\n",
    "from transformers import (\n",
    "    AutoModelForSequenceClassification,\n",
    "    AutoTokenizer,\n",
    "    TrainingArguments,\n",
    "    Trainer,\n",
    "    EarlyStoppingCallback\n",
    ")\n",
    "from sklearn.metrics import accuracy_score, precision_recall_fscore_support\n",
    "\n",
    "# Add the parent directory to Python path for custom utility imports\n",
    "if not os.path.exists('../utils'):\n",
    "    !mkdir -p ../utils\n",
    "    !wget -O ../utils/thai_nlp_utils.py https://raw.githubusercontent.com/username/repo/main/utils/thai_nlp_utils.py\n",
    "\n",
    "sys.path.append('..')\n",
    "from utils.thai_nlp_utils import clean_thai_text, prepare_dataset_splits, save_model_to_hf"
   ]
  },
  {
   "cell_type": "markdown",
   "metadata": {},
   "source": [
    "## 1. Data Preparation"
   ]
  },
  {
   "cell_type": "code",
   "execution_count": null,
   "metadata": {},
   "outputs": [],
   "source": [
    "# Sample code to load data (replace with your dataset)\n",
    "# For example, loading a CSV with text and labels\n",
    "def load_dataset(file_path):\n",
    "    df = pd.read_csv(file_path)\n",
    "    # Ensure necessary columns exist\n",
    "    required_cols = ['text', 'label']\n",
    "    for col in required_cols:\n",
    "        if col not in df.columns:\n",
    "            raise ValueError(f\"Required column '{col}' not found in dataset\")\n",
    "    return df\n",
    "\n",
    "# Load your Thai text classification dataset\n",
    "# sample_path = 'your_dataset_path.csv'\n",
    "# df = load_dataset(sample_path)\n",
    "\n",
    "# For demonstration, create a sample dataset\n",
    "sample_data = {\n",
    "    'text': [\n",
    "        'ฉันชอบดูหนัง',\n",
    "        'อาหารร้านนี้อร่อยมาก',\n",
    "        'การเมืองไทยวุ่นวายเหลือเกิน',\n",
    "        'ราคาน้ำมันสูงขึ้นทุกวัน',\n",
    "        'ฉันรักประเทศไทย'\n",
    "    ],\n",
    "    'label': [0, 1, 2, 2, 0]  # Sample labels: 0=entertainment, 1=food, 2=news\n",
    "}\n",
    "df = pd.DataFrame(sample_data)\n",
    "\n",
    "# Display dataset information\n",
    "print(f\"Dataset shape: {df.shape}\")\n",
    "print(f\"Label distribution:\\n{df['label'].value_counts()}\")\n",
    "df.head()"
   ]
  },
  {
   "cell_type": "code",
   "execution_count": null,
   "metadata": {},
   "outputs": [],
   "source": [
    "# Clean text data\n",
    "df['text_cleaned'] = df['text'].apply(clean_thai_text)\n",
    "\n",
    "# Split data into train, validation, and test sets\n",
    "train_df, val_df, test_df = prepare_dataset_splits(df, 'text_cleaned', 'label')\n",
    "\n",
    "print(f\"Train set: {train_df.shape}\")\n",
    "print(f\"Validation set: {val_df.shape}\")\n",
    "print(f\"Test set: {test_df.shape}\")"
   ]
  },
  {
   "cell_type": "markdown",
   "metadata": {},
   "source": [
    "## 2. Model Preparation"
   ]
  },
  {
   "cell_type": "code",
   "execution_count": null,
   "metadata": {},
   "outputs": [],
   "source": [
    "# Define model parameters\n",
    "MODEL_NAME = \"airesearch/wangchanberta-base-att-spm-uncased\"  # Thai BERT model\n",
    "NUM_LABELS = len(df['label'].unique())\n",
    "MAX_LENGTH = 128\n",
    "\n",
    "# Load tokenizer and model\n",
    "tokenizer = AutoTokenizer.from_pretrained(MODEL_NAME)\n",
    "model = AutoModelForSequenceClassification.from_pretrained(\n",
    "    MODEL_NAME,\n",
    "    num_labels=NUM_LABELS\n",
    ")"
   ]
  },
  {
   "cell_type": "code",
   "execution_count": null,
   "metadata": {},
   "outputs": [],
   "source": [
    "# Create dataset class\n",
    "class ThaiTextClassificationDataset(Dataset):\n",
    "    def __init__(self, texts, labels, tokenizer, max_length):\n",
    "        self.texts = texts\n",
    "        self.labels = labels\n",
    "        self.tokenizer = tokenizer\n",
    "        self.max_length = max_length\n",
    "        \n",
    "    def __len__(self):\n",
    "        return len(self.texts)\n",
    "    \n",
    "    def __getitem__(self, idx):\n",
    "        text = str(self.texts[idx])\n",
    "        label = self.labels[idx]\n",
    "        \n",
    "        encoding = self.tokenizer(\n",
    "            text,\n",
    "            add_special_tokens=True,\n",
    "            max_length=self.max_length,\n",
    "            padding='max_length',\n",
    "            truncation=True,\n",
    "            return_attention_mask=True,\n",
    "            return_tensors='pt'\n",
    "        )\n",
    "        \n",
    "        return {\n",
    "            'input_ids': encoding['input_ids'].flatten(),\n",
    "            'attention_mask': encoding['attention_mask'].flatten(),\n",
    "            'labels': torch.tensor(label, dtype=torch.long)\n",
    "        }\n",
    "\n",
    "# Create datasets for training, validation and testing\n",
    "train_dataset = ThaiTextClassificationDataset(\n",
    "    train_df['text_cleaned'].values,\n",
    "    train_df['label'].values,\n",
    "    tokenizer,\n",
    "    MAX_LENGTH\n",
    ")\n",
    "\n",
    "val_dataset = ThaiTextClassificationDataset(\n",
    "    val_df['text_cleaned'].values,\n",
    "    val_df['label'].values,\n",
    "    tokenizer,\n",
    "    MAX_LENGTH\n",
    ")\n",
    "\n",
    "test_dataset = ThaiTextClassificationDataset(\n",
    "    test_df['text_cleaned'].values,\n",
    "    test_df['label'].values,\n",
    "    tokenizer,\n",
    "    MAX_LENGTH\n",
    ")"
   ]
  },
  {
   "cell_type": "markdown",
   "metadata": {},
   "source": [
    "## 3. Model Training"
   ]
  },
  {
   "cell_type": "code",
   "execution_count": null,
   "metadata": {},
   "outputs": [],
   "source": [
    "# Define metrics computation function\n",
    "def compute_metrics(pred):\n",
    "    labels = pred.label_ids\n",
    "    preds = pred.predictions.argmax(-1)\n",
    "    precision, recall, f1, _ = precision_recall_fscore_support(labels, preds, average='weighted')\n",
    "    acc = accuracy_score(labels, preds)\n",
    "    return {\n",
    "        'accuracy': acc,\n",
    "        'f1': f1,\n",
    "        'precision': precision,\n",
    "        'recall': recall\n",
    "    }\n",
    "\n",
    "# Define training arguments\n",
    "training_args = TrainingArguments(\n",
    "    output_dir='./results',\n",
    "    num_train_epochs=5,\n",
    "    per_device_train_batch_size=16,\n",
    "    per_device_eval_batch_size=16,\n",
    "    warmup_steps=500,\n",
    "    weight_decay=0.01,\n",
    "    logging_dir='./logs',\n",
    "    logging_steps=10,\n",
    "    evaluation_strategy=\"epoch\",\n",
    "    save_strategy=\"epoch\",\n",
    "    load_best_model_at_end=True,\n",
    "    metric_for_best_model=\"f1\",\n",
    "    fp16=True,  # Use mixed precision training\n",
    ")\n",
    "\n",
    "# Initialize trainer\n",
    "trainer = Trainer(\n",
    "    model=model,\n",
    "    args=training_args,\n",
    "    train_dataset=train_dataset,\n",
    "    eval_dataset=val_dataset,\n",
    "    compute_metrics=compute_metrics,\n",
    "    callbacks=[EarlyStoppingCallback(early_stopping_patience=3)]\n",
    ")"
   ]
  },
  {
   "cell_type": "code",
   "execution_count": null,
   "metadata": {},
   "outputs": [],
   "source": [
    "# Train the model\n",
    "train_results = trainer.train()\n",
    "\n",
    "# Print training metrics\n",
    "print(f\"Training metrics: {train_results}\")"
   ]
  },
  {
   "cell_type": "markdown",
   "metadata": {},
   "source": [
    "## 4. Model Evaluation"
   ]
  },
  {
   "cell_type": "code",
   "execution_count": null,
   "metadata": {},
   "outputs": [],
   "source": [
    "# Evaluate on test set\n",
    "test_results = trainer.evaluate(test_dataset)\n",
    "print(f\"Test metrics: {test_results}\")\n",
    "\n",
    "# Detailed analysis on test set\n",
    "predictions = trainer.predict(test_dataset)\n",
    "preds = predictions.predictions.argmax(-1)\n",
    "\n",
    "# Create a confusion matrix\n",
    "from sklearn.metrics import confusion_matrix, classification_report\n",
    "import matplotlib.pyplot as plt\n",
    "import seaborn as sns\n",
    "\n",
    "cm = confusion_matrix(test_df['label'], preds)\n",
    "\n",
    "plt.figure(figsize=(10, 8))\n",
    "sns.heatmap(cm, annot=True, fmt='d', cmap='Blues')\n",
    "plt.xlabel('Predicted')\n",
    "plt.ylabel('True')\n",
    "plt.title('Confusion Matrix')\n",
    "plt.show()\n",
    "\n",
    "# Print classification report\n",
    "print(classification_report(test_df['label'], preds))"
   ]
  },
  {
   "cell_type": "markdown",
   "metadata": {},
   "source": [
    "## 5. Save Model to Hugging Face"
   ]
  },
  {
   "cell_type": "code",
   "execution_count": null,
   "metadata": {},
   "outputs": [],
   "source": [
    "# Save model to Hugging Face Hub\n",
    "# Replace with your Hugging Face token and desired repository name\n",
    "HF_TOKEN = \"your_huggingface_token\"  # Get token from https://huggingface.co/settings/tokens\n",
    "MODEL_REPO_NAME = \"your-username/thai-text-classification\"\n",
    "\n",
    "# Login to Hugging Face\n",
    "from huggingface_hub import notebook_login\n",
    "notebook_login()\n",
    "\n",
    "# Save model and tokenizer\n",
    "save_model_to_hf(model, tokenizer, MODEL_REPO_NAME, HF_TOKEN)"
   ]
  },
  {
   "cell_type": "code",
   "execution_count": null,
   "metadata": {},
   "outputs": [],
   "source": [
    "# Test the saved model with a sample input\n",
    "from transformers import pipeline\n",
    "\n",
    "# Load the model from Hugging Face\n",
    "classifier = pipeline(\n",
    "    \"text-classification\", \n",
    "    model=MODEL_REPO_NAME,\n",
    "    tokenizer=MODEL_REPO_NAME\n",
    ")\n",
    "\n",
    "# Test with example text\n",
    "sample_texts = [\n",
    "    \"หนังเรื่องนี้สนุกมากๆ\",\n",
    "    \"อาหารที่ร้านนี้รสชาติดีมาก\"\n",
    "]\n",
    "\n",
    "for text in sample_texts:\n",
    "    result = classifier(text)\n",
    "    print(f\"Text: {text}\")\n",
    "    print(f\"Prediction: {result}\\n\")"
   ]
  }
 ],
 "metadata": {
  "language_info": {
   "name": "python"
  }
 },
 "nbformat": 4,
 "nbformat_minor": 2
}
